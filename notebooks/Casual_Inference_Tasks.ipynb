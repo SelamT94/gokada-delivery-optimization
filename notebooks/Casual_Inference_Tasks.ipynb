{
 "cells": [
  {
   "cell_type": "markdown",
   "metadata": {},
   "source": [
    "# Step 1: Data Preparation and Splitting\n"
   ]
  },
  {
   "cell_type": "code",
   "execution_count": 3,
   "metadata": {},
   "outputs": [],
   "source": [
    "import pandas as pd\n",
    "from sklearn.model_selection import train_test_split\n",
    "\n",
    "# Load your dataset\n",
    "data_path = '../data/preprocessed_data.csv'\n",
    "df = pd.read_csv(data_path)\n",
    "\n",
    "# Split data into training and hold-out set (80-20 split)\n",
    "train_df, holdout_df = train_test_split(df, test_size=0.2, random_state=42)\n",
    "\n",
    "target_variable = 'unfulfilled_requests'\n"
   ]
  },
  {
   "cell_type": "markdown",
   "metadata": {},
   "source": [
    "# Step 2: Causal Graph Creation (Ground Truth)\n"
   ]
  },
  {
   "cell_type": "code",
   "execution_count": 4,
   "metadata": {},
   "outputs": [
    {
     "ename": "ModuleNotFoundError",
     "evalue": "No module named 'causalnex'",
     "output_type": "error",
     "traceback": [
      "\u001b[1;31m---------------------------------------------------------------------------\u001b[0m",
      "\u001b[1;31mModuleNotFoundError\u001b[0m                       Traceback (most recent call last)",
      "Cell \u001b[1;32mIn[4], line 1\u001b[0m\n\u001b[1;32m----> 1\u001b[0m \u001b[38;5;28;01mfrom\u001b[39;00m \u001b[38;5;21;01mcausalnex\u001b[39;00m\u001b[38;5;21;01m.\u001b[39;00m\u001b[38;5;21;01mstructure\u001b[39;00m \u001b[38;5;28;01mimport\u001b[39;00m StructureModel\n\u001b[0;32m      2\u001b[0m \u001b[38;5;28;01mfrom\u001b[39;00m \u001b[38;5;21;01mcausalnex\u001b[39;00m\u001b[38;5;21;01m.\u001b[39;00m\u001b[38;5;21;01mstructure\u001b[39;00m\u001b[38;5;21;01m.\u001b[39;00m\u001b[38;5;21;01mnotears\u001b[39;00m \u001b[38;5;28;01mimport\u001b[39;00m from_pandas\n\u001b[0;32m      4\u001b[0m \u001b[38;5;66;03m# Create the StructureModel and add edges based on domain knowledge/statistical tests\u001b[39;00m\n",
      "\u001b[1;31mModuleNotFoundError\u001b[0m: No module named 'causalnex'"
     ]
    }
   ],
   "source": [
    "from causalnex.structure import StructureModel\n",
    "from causalnex.structure.notears import from_pandas\n",
    "\n",
    "# Create the StructureModel and add edges based on domain knowledge/statistical tests\n",
    "sm = StructureModel()\n",
    "\n",
    "# Assuming you add edges based on your domain knowledge or statistical tests\n",
    "# Example:\n",
    "sm.add_edge('drivers_movement', 'unfulfilled_requests')\n",
    "sm.add_edge('order_accuracy', 'unfulfilled_requests')\n",
    "# Add more edges as appropriate\n",
    "\n",
    "# Fit the structure from data (this example assumes binary discretization for simplicity)\n",
    "discretised_data = train_df.apply(pd.qcut, q=2, labels=False, duplicates='drop')\n",
    "sm = from_pandas(discretised_data, max_iter=1000)\n",
    "\n",
    "# Optionally, you can visualize the graph\n",
    "from causalnex.plots import plot_structure\n",
    "\n",
    "plot_structure(sm)\n"
   ]
  },
  {
   "cell_type": "markdown",
   "metadata": {},
   "source": [
    "# Step 3: Incremental Causal Graphs and Jaccard Similarity\n"
   ]
  },
  {
   "cell_type": "code",
   "execution_count": null,
   "metadata": {},
   "outputs": [],
   "source": [
    "from causalnex.structure.notears import from_pandas\n",
    "\n",
    "# Initialize the StructureModel for incremental graphs\n",
    "incremental_sm = StructureModel()\n",
    "\n",
    "# Example: Train with increasing fractions of the data\n",
    "fraction_sizes = [0.2, 0.4, 0.6, 0.8]  # Example fractions\n",
    "for frac in fraction_sizes:\n",
    "    sample_data = train_df.sample(frac=frac, random_state=42)\n",
    "    discretised_data = sample_data.apply(pd.qcut, q=2, labels=False, duplicates='drop')\n",
    "    incremental_sm = from_pandas(discretised_data, max_iter=1000)\n",
    "    \n",
    "    # Compare the new graph with ground truth using Jaccard similarity\n",
    "    ground_truth_edges = set(sm.edges())\n",
    "    incremental_edges = set(incremental_sm.edges())\n",
    "    \n",
    "    intersection = ground_truth_edges.intersection(incremental_edges)\n",
    "    union = ground_truth_edges.union(incremental_edges)\n",
    "    \n",
    "    jaccard_similarity = len(intersection) / len(union)\n",
    "    \n",
    "    print(f\"Jaccard Similarity with {frac} fraction: {jaccard_similarity}\")\n"
   ]
  },
  {
   "cell_type": "markdown",
   "metadata": {},
   "source": [
    "# Step 4: Select Variables Directly Affecting the Target Variable\n"
   ]
  },
  {
   "cell_type": "code",
   "execution_count": 6,
   "metadata": {},
   "outputs": [
    {
     "ename": "ModuleNotFoundError",
     "evalue": "No module named 'causalnex'",
     "output_type": "error",
     "traceback": [
      "\u001b[1;31m---------------------------------------------------------------------------\u001b[0m",
      "\u001b[1;31mModuleNotFoundError\u001b[0m                       Traceback (most recent call last)",
      "Cell \u001b[1;32mIn[6], line 1\u001b[0m\n\u001b[1;32m----> 1\u001b[0m \u001b[38;5;28;01mfrom\u001b[39;00m \u001b[38;5;21;01mcausalnex\u001b[39;00m\u001b[38;5;21;01m.\u001b[39;00m\u001b[38;5;21;01minference\u001b[39;00m \u001b[38;5;28;01mimport\u001b[39;00m InferenceEngine\n\u001b[0;32m      3\u001b[0m \u001b[38;5;66;03m# Use the inference engine to identify direct causes of 'unfulfilled_requests'\u001b[39;00m\n\u001b[0;32m      4\u001b[0m engine \u001b[38;5;241m=\u001b[39m InferenceEngine(sm)\n",
      "\u001b[1;31mModuleNotFoundError\u001b[0m: No module named 'causalnex'"
     ]
    }
   ],
   "source": [
    "from causalnex.inference import InferenceEngine\n",
    "\n",
    "# Use the inference engine to identify direct causes of 'unfulfilled_requests'\n",
    "engine = InferenceEngine(sm)\n",
    "direct_causes = engine.get_all_backdoor_paths('unfulfilled_requests')\n",
    "\n",
    "print(\"Direct causes of 'unfulfilled_requests':\", direct_causes)\n"
   ]
  },
  {
   "cell_type": "markdown",
   "metadata": {},
   "source": [
    "# Step 5: Answering Questions using Do-Intervention\n"
   ]
  },
  {
   "cell_type": "code",
   "execution_count": 5,
   "metadata": {},
   "outputs": [
    {
     "ename": "NameError",
     "evalue": "name 'engine' is not defined",
     "output_type": "error",
     "traceback": [
      "\u001b[1;31m---------------------------------------------------------------------------\u001b[0m",
      "\u001b[1;31mNameError\u001b[0m                                 Traceback (most recent call last)",
      "Cell \u001b[1;32mIn[5], line 3\u001b[0m\n\u001b[0;32m      1\u001b[0m \u001b[38;5;66;03m# Example 1: Intervention - Drivers move 1km every 30 mins\u001b[39;00m\n\u001b[0;32m      2\u001b[0m \u001b[38;5;66;03m# Assuming 'drivers_movement' affects 'unfulfilled_requests'\u001b[39;00m\n\u001b[1;32m----> 3\u001b[0m \u001b[43mengine\u001b[49m\u001b[38;5;241m.\u001b[39mdo_intervention(\u001b[38;5;124m'\u001b[39m\u001b[38;5;124mdrivers_movement\u001b[39m\u001b[38;5;124m'\u001b[39m, \u001b[38;5;241m1.0\u001b[39m)  \u001b[38;5;66;03m# Intervene to move 1km\u001b[39;00m\n\u001b[0;32m      5\u001b[0m \u001b[38;5;66;03m# Example 2: Intervention - 20% of orders known within 5km accuracy\u001b[39;00m\n\u001b[0;32m      6\u001b[0m \u001b[38;5;66;03m# Assuming 'order_accuracy' affects 'unfulfilled_requests'\u001b[39;00m\n\u001b[0;32m      7\u001b[0m engine\u001b[38;5;241m.\u001b[39mdo_intervention(\u001b[38;5;124m'\u001b[39m\u001b[38;5;124morder_accuracy\u001b[39m\u001b[38;5;124m'\u001b[39m, \u001b[38;5;241m0.8\u001b[39m)  \u001b[38;5;66;03m# Intervene with 20% accuracy\u001b[39;00m\n",
      "\u001b[1;31mNameError\u001b[0m: name 'engine' is not defined"
     ]
    }
   ],
   "source": [
    "# Example 1: Intervention - Drivers move 1km every 30 mins\n",
    "# Assuming 'drivers_movement' affects 'unfulfilled_requests'\n",
    "engine.do_intervention('drivers_movement', 1.0)  # Intervene to move 1km\n",
    "\n",
    "# Example 2: Intervention - 20% of orders known within 5km accuracy\n",
    "# Assuming 'order_accuracy' affects 'unfulfilled_requests'\n",
    "engine.do_intervention('order_accuracy', 0.8)  # Intervene with 20% accuracy\n",
    "\n",
    "# Example 3: Intervention - Changing time requirements for past orders\n",
    "# Assuming 'order_completion_time' affects 'unfulfilled_requests'\n",
    "engine.do_intervention('order_completion_time', new_value)  # Specify the new time requirements\n",
    "\n",
    "# Example 4: Intervention - Increase drivers by 10% cumulative per month\n",
    "# Assuming 'number_of_drivers' affects 'unfulfilled_requests'\n",
    "engine.do_intervention('number_of_drivers', 1.1)  # Intervene with 10% increase\n",
    "\n",
    "# Evaluate the effect on 'unfulfilled_requests' after each intervention\n"
   ]
  },
  {
   "cell_type": "markdown",
   "metadata": {},
   "source": [
    "# Step 6: Train Machine Learning Models\n"
   ]
  },
  {
   "cell_type": "code",
   "execution_count": null,
   "metadata": {},
   "outputs": [],
   "source": [
    "from sklearn.ensemble import RandomForestRegressor\n",
    "from xgboost import XGBRegressor\n",
    "from sklearn.metrics import mean_squared_error\n",
    "\n",
    "# Train models with all variables\n",
    "X_train_all = train_df.drop(columns=[target_variable])\n",
    "y_train_all = train_df[target_variable]\n",
    "\n",
    "model_all = RandomForestRegressor(random_state=42)\n",
    "model_all.fit(X_train_all, y_train_all)\n",
    "\n",
    "# Train models with selected variables from causal graph\n",
    "selected_variables = list(direct_causes) + ['other_selected_variables']\n",
    "X_train_selected = train_df[selected_variables]\n",
    "y_train_selected = train_df[target_variable]\n",
    "\n",
    "model_selected = XGBRegressor(random_state=42)\n",
    "model_selected.fit(X_train_selected, y_train_selected)\n",
    "\n",
    "# Evaluate models on the hold-out set to measure overfitting\n",
    "X_holdout_all = holdout_df.drop(columns=[target_variable])\n",
    "y_holdout_all = holdout_df[target_variable]\n",
    "\n",
    "X_holdout_selected = holdout_df[selected_variables]\n",
    "y_holdout_selected = holdout_df[target_variable]\n",
    "\n",
    "y_pred_all = model_all.predict(X_holdout_all)\n",
    "y_pred_selected = model_selected.predict(X_holdout_selected)\n",
    "\n",
    "mse_all = mean_squared_error(y_holdout_all, y_pred_all)\n",
    "mse_selected = mean_squared_error(y_holdout_selected, y_pred_selected)\n",
    "\n",
    "print(f\"MSE (All variables): {mse_all}\")\n",
    "print(f\"MSE (Selected variables): {mse_selected}\")\n"
   ]
  }
 ],
 "metadata": {
  "kernelspec": {
   "display_name": "Python 3",
   "language": "python",
   "name": "python3"
  },
  "language_info": {
   "codemirror_mode": {
    "name": "ipython",
    "version": 3
   },
   "file_extension": ".py",
   "mimetype": "text/x-python",
   "name": "python",
   "nbconvert_exporter": "python",
   "pygments_lexer": "ipython3",
   "version": "3.12.2"
  }
 },
 "nbformat": 4,
 "nbformat_minor": 2
}
