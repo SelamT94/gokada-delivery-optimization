{
 "cells": [
  {
   "cell_type": "code",
   "execution_count": null,
   "metadata": {},
   "outputs": [],
   "source": [
    "from pulp import LpMaximize, LpProblem, LpVariable, lpSum, value\n",
    "import pandas as pd\n",
    "import numpy as np\n"
   ]
  },
  {
   "cell_type": "code",
   "execution_count": null,
   "metadata": {},
   "outputs": [],
   "source": [
    "# Sample data\n",
    "service_areas = ['Area1', 'Area2', 'Area3']\n",
    "demand = [20, 30, 15]  # Demand in each service area\n",
    "driver_capacities = [50, 40]  # Capacities of two drivers\n",
    "travel_distances = {\n",
    "    ('Driver1', 'Area1'): 10,\n",
    "    ('Driver1', 'Area2'): 15,\n",
    "    ('Driver1', 'Area3'): 12,\n",
    "    ('Driver2', 'Area1'): 8,\n",
    "    ('Driver2', 'Area2'): 20,\n",
    "    ('Driver2', 'Area3'): 18\n",
    "}\n"
   ]
  },
  {
   "cell_type": "code",
   "execution_count": null,
   "metadata": {},
   "outputs": [],
   "source": [
    "# Initialize the model\n",
    "model = LpProblem(name=\"driver_allocation\", sense=LpMaximize)\n"
   ]
  },
  {
   "cell_type": "code",
   "execution_count": null,
   "metadata": {},
   "outputs": [],
   "source": [
    "# Define decision variables\n",
    "driver_to_area = LpVariable.dicts(\"DriverToArea\",\n",
    "                                  [(f\"Driver{i+1}\", area) for i in range(len(driver_capacities)) for area in service_areas],\n",
    "                                  cat='Binary')\n"
   ]
  },
  {
   "cell_type": "code",
   "execution_count": null,
   "metadata": {},
   "outputs": [],
   "source": [
    "# Define objective function\n",
    "model += lpSum(driver_to_area[(f\"Driver{i+1}\", area)] * demand[idx] for idx, area in enumerate(service_areas)\n",
    "               for i in range(len(driver_capacities)))\n"
   ]
  },
  {
   "cell_type": "code",
   "execution_count": null,
   "metadata": {},
   "outputs": [],
   "source": [
    "# Constraints\n",
    "# Each service area must be covered by exactly one driver\n",
    "for area in service_areas:\n",
    "    model += lpSum(driver_to_area[(f\"Driver{i+1}\", area)] for i in range(len(driver_capacities))) == 1\n",
    "\n",
    "# Driver capacity constraints\n",
    "for i, capacity in enumerate(driver_capacities):\n",
    "    model += lpSum(driver_to_area[(f\"Driver{i+1}\", area)] * demand[idx] for idx, area in enumerate(service_areas)) <= capacity\n"
   ]
  },
  {
   "cell_type": "code",
   "execution_count": null,
   "metadata": {},
   "outputs": [],
   "source": [
    "# Solve the model\n",
    "model.solve()\n",
    "\n",
    "# Print optimal allocation\n",
    "for v in model.variables():\n",
    "    if v.varValue > 0:\n",
    "        print(f\"{v.name}: {v.varValue}\")\n"
   ]
  }
 ],
 "metadata": {
  "kernelspec": {
   "display_name": "Python 3",
   "language": "python",
   "name": "python3"
  },
  "language_info": {
   "codemirror_mode": {
    "name": "ipython",
    "version": 3
   },
   "file_extension": ".py",
   "mimetype": "text/x-python",
   "name": "python",
   "nbconvert_exporter": "python",
   "pygments_lexer": "ipython3",
   "version": "3.12.2"
  }
 },
 "nbformat": 4,
 "nbformat_minor": 2
}
