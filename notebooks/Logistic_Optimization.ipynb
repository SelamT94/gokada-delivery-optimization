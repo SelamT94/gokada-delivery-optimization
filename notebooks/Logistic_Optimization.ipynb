{
 "cells": [
  {
   "cell_type": "code",
   "execution_count": 2,
   "metadata": {},
   "outputs": [
    {
     "ename": "ImportError",
     "evalue": "cannot import name 'LogisticOptimization' from 'src.logistic_optimization' (c:\\Users\\dell\\Desktop\\10Academy\\gokada-delivery-optimization\\notebooks\\..\\src\\logistic_optimization.py)",
     "output_type": "error",
     "traceback": [
      "\u001b[1;31m---------------------------------------------------------------------------\u001b[0m",
      "\u001b[1;31mImportError\u001b[0m                               Traceback (most recent call last)",
      "Cell \u001b[1;32mIn[2], line 5\u001b[0m\n\u001b[0;32m      3\u001b[0m sys\u001b[38;5;241m.\u001b[39mpath\u001b[38;5;241m.\u001b[39mappend(\u001b[38;5;124m'\u001b[39m\u001b[38;5;124m..\u001b[39m\u001b[38;5;124m'\u001b[39m)\n\u001b[0;32m      4\u001b[0m \u001b[38;5;28;01mfrom\u001b[39;00m \u001b[38;5;21;01msrc\u001b[39;00m\u001b[38;5;21;01m.\u001b[39;00m\u001b[38;5;21;01mdata_loader\u001b[39;00m \u001b[38;5;28;01mimport\u001b[39;00m DataLoader\n\u001b[1;32m----> 5\u001b[0m \u001b[38;5;28;01mfrom\u001b[39;00m \u001b[38;5;21;01msrc\u001b[39;00m\u001b[38;5;21;01m.\u001b[39;00m\u001b[38;5;21;01mlogistic_optimization\u001b[39;00m \u001b[38;5;28;01mimport\u001b[39;00m LogisticOptimization\n\u001b[0;32m      7\u001b[0m \u001b[38;5;66;03m# Load data\u001b[39;00m\n\u001b[0;32m      8\u001b[0m data_loader \u001b[38;5;241m=\u001b[39m DataLoader()\n",
      "\u001b[1;31mImportError\u001b[0m: cannot import name 'LogisticOptimization' from 'src.logistic_optimization' (c:\\Users\\dell\\Desktop\\10Academy\\gokada-delivery-optimization\\notebooks\\..\\src\\logistic_optimization.py)"
     ]
    }
   ],
   "source": [
    "import pandas as pd\n",
    "import sys\n",
    "sys.path.append('..')\n",
    "from src.data_loader import DataLoader\n",
    "from src.logistic_optimization import LogisticOptimization\n",
    "\n",
    "# Load data\n",
    "data_loader = DataLoader()\n",
    "data = data_loader.load_data('C:/Users/dell/Desktop/10Academy/gokada-delivery-optimization/data/driver_locations_during_request.csv')\n",
    "\n",
    "# Logistic Optimization\n",
    "logistic_optimization = LogisticOptimization(data)\n",
    "result = logistic_optimization.optimize_driver_placement()\n",
    "print(result)\n"
   ]
  }
 ],
 "metadata": {
  "kernelspec": {
   "display_name": "Python 3",
   "language": "python",
   "name": "python3"
  },
  "language_info": {
   "codemirror_mode": {
    "name": "ipython",
    "version": 3
   },
   "file_extension": ".py",
   "mimetype": "text/x-python",
   "name": "python",
   "nbconvert_exporter": "python",
   "pygments_lexer": "ipython3",
   "version": "3.12.2"
  }
 },
 "nbformat": 4,
 "nbformat_minor": 2
}
